{
 "cells": [
  {
   "cell_type": "code",
   "execution_count": 15,
   "id": "20d38727-201f-48ac-93c2-7fab07b42bea",
   "metadata": {},
   "outputs": [],
   "source": [
    "import numpy as np"
   ]
  },
  {
   "cell_type": "code",
   "execution_count": 5,
   "id": "40f91e07-6689-4a27-8005-6637a3f5ce83",
   "metadata": {},
   "outputs": [
    {
     "name": "stdout",
     "output_type": "stream",
     "text": [
      "[1 2 3]\n"
     ]
    }
   ],
   "source": [
    "a = np.array([1,2,3])\n",
    "print(a)"
   ]
  },
  {
   "cell_type": "code",
   "execution_count": 7,
   "id": "111d654a-d6cc-4c76-bc29-f347b7a4c81f",
   "metadata": {},
   "outputs": [
    {
     "name": "stdout",
     "output_type": "stream",
     "text": [
      "[[9. 8. 7.]\n",
      " [6. 5. 4.]]\n"
     ]
    }
   ],
   "source": [
    "b = np.array([[9.0,8.0,7.0],[6.0,5.0,4.0]])\n",
    "print(b)"
   ]
  },
  {
   "cell_type": "code",
   "execution_count": 8,
   "id": "6387389b-e5b1-44b2-a04b-fe0159841f2c",
   "metadata": {},
   "outputs": [
    {
     "data": {
      "text/plain": [
       "1"
      ]
     },
     "execution_count": 8,
     "metadata": {},
     "output_type": "execute_result"
    }
   ],
   "source": [
    "# Get Dimension\n",
    "a.ndim"
   ]
  },
  {
   "cell_type": "code",
   "execution_count": 9,
   "id": "1639b22b-20c3-4d84-8437-96fbc437add0",
   "metadata": {},
   "outputs": [
    {
     "data": {
      "text/plain": [
       "(2, 3)"
      ]
     },
     "execution_count": 9,
     "metadata": {},
     "output_type": "execute_result"
    }
   ],
   "source": [
    "# Get Shape - will print out the number of rows and cols\n",
    "b.shape"
   ]
  },
  {
   "cell_type": "code",
   "execution_count": 10,
   "id": "d26ee12c-b7fc-4277-a9fc-1bc88a5f49ab",
   "metadata": {},
   "outputs": [
    {
     "data": {
      "text/plain": [
       "dtype('int32')"
      ]
     },
     "execution_count": 10,
     "metadata": {},
     "output_type": "execute_result"
    }
   ],
   "source": [
    "# Get Type\n",
    "a.dtype"
   ]
  },
  {
   "cell_type": "code",
   "execution_count": 11,
   "id": "aae8eb15-ef22-43fe-8e03-ccf245640769",
   "metadata": {},
   "outputs": [
    {
     "data": {
      "text/plain": [
       "4"
      ]
     },
     "execution_count": 11,
     "metadata": {},
     "output_type": "execute_result"
    }
   ],
   "source": [
    "# Get Size\n",
    "a.itemsize"
   ]
  },
  {
   "cell_type": "code",
   "execution_count": 14,
   "id": "248c73b2-48eb-4bc7-8ee9-b03309c5c9a9",
   "metadata": {},
   "outputs": [
    {
     "data": {
      "text/plain": [
       "12"
      ]
     },
     "execution_count": 14,
     "metadata": {},
     "output_type": "execute_result"
    }
   ],
   "source": [
    "# Get Total Size - this is also equal to the size(num of elements) * itemsize\n",
    "a.nbytes\n",
    "# we can also specify in the array how many bytes we want to use. a = np.array([1,2,3], dtype=\"int16 or int32\")\n",
    "# we can do the same with the array b, but we'll get a different amount of bytes, because we have floats"
   ]
  },
  {
   "cell_type": "markdown",
   "id": "9d81a3d0-a6ce-4b28-8f48-2958e8e1fe45",
   "metadata": {},
   "source": [
    "# Accessing / Changing Specific Elements, Rows, Columns, etc"
   ]
  },
  {
   "cell_type": "code",
   "execution_count": 17,
   "id": "3a4b9a04-43db-466e-a6db-15a660aefff3",
   "metadata": {},
   "outputs": [
    {
     "name": "stdout",
     "output_type": "stream",
     "text": [
      "[[ 1  2  3  4  5  6  7]\n",
      " [ 8  9 10 11 12 13 14]]\n"
     ]
    }
   ],
   "source": [
    "a = np.array([[1,2,3,4,5,6,7],[8,9,10,11,12,13,14]])\n",
    "print(a)"
   ]
  },
  {
   "cell_type": "code",
   "execution_count": 18,
   "id": "b29017e5-7ecc-41d0-8423-9439c29ef6ce",
   "metadata": {},
   "outputs": [
    {
     "data": {
      "text/plain": [
       "13"
      ]
     },
     "execution_count": 18,
     "metadata": {},
     "output_type": "execute_result"
    }
   ],
   "source": [
    "# get a specific element [r, c]\n",
    "a[1, 5]"
   ]
  },
  {
   "cell_type": "code",
   "execution_count": 19,
   "id": "4a13ec52-78b7-4981-a16e-fe4569a9b369",
   "metadata": {},
   "outputs": [
    {
     "data": {
      "text/plain": [
       "array([1, 2, 3, 4, 5, 6, 7])"
      ]
     },
     "execution_count": 19,
     "metadata": {},
     "output_type": "execute_result"
    }
   ],
   "source": [
    "# get a specific row\n",
    "a[0, :]"
   ]
  },
  {
   "cell_type": "code",
   "execution_count": 20,
   "id": "264eb0c8-42d2-42e8-ac3f-841c22094219",
   "metadata": {},
   "outputs": [],
   "source": [
    "# get a specific column"
   ]
  },
  {
   "cell_type": "code",
   "execution_count": 21,
   "id": "0d0f2b39-772c-4637-afea-915104a3501f",
   "metadata": {},
   "outputs": [
    {
     "data": {
      "text/plain": [
       "array([ 3, 10])"
      ]
     },
     "execution_count": 21,
     "metadata": {},
     "output_type": "execute_result"
    }
   ],
   "source": [
    "a[:, 2]"
   ]
  },
  {
   "cell_type": "code",
   "execution_count": 23,
   "id": "0bbd8be3-cc75-48cc-af84-c6009dedddc4",
   "metadata": {},
   "outputs": [
    {
     "data": {
      "text/plain": [
       "array([2, 4, 6])"
      ]
     },
     "execution_count": 23,
     "metadata": {},
     "output_type": "execute_result"
    }
   ],
   "source": [
    "# getting a little more fancy [start:end:step]\n",
    "a[0, 1:6:2] # we get the first row (0), and set the start:end:step indexes for the first row"
   ]
  },
  {
   "cell_type": "code",
   "execution_count": 26,
   "id": "f7d5ca26-279f-4a44-86ca-7793d01dbaab",
   "metadata": {},
   "outputs": [
    {
     "data": {
      "text/plain": [
       "array([[ 1,  2,  3,  4,  5,  6,  7],\n",
       "       [ 8,  9, 10, 11, 12, 20, 14]])"
      ]
     },
     "execution_count": 26,
     "metadata": {},
     "output_type": "execute_result"
    }
   ],
   "source": [
    "# we can also change some of the items in our array\n",
    "a[1,5] = 20 # row(1), item on index 5 was 13, and now its 20\n",
    "a"
   ]
  },
  {
   "cell_type": "code",
   "execution_count": 28,
   "id": "4ba8e1f7-5590-4441-845e-9bbfcc15a9a5",
   "metadata": {},
   "outputs": [
    {
     "data": {
      "text/plain": [
       "array([[ 1,  2,  5,  4,  5,  6,  7],\n",
       "       [ 8,  9,  5, 11, 12, 20, 14]])"
      ]
     },
     "execution_count": 28,
     "metadata": {},
     "output_type": "execute_result"
    }
   ],
   "source": [
    "# we can also change series of items, not just one\n",
    "a[:,2] = 5 # so now for every row, the items at index 2 will be changed to 5\n",
    "a"
   ]
  },
  {
   "cell_type": "code",
   "execution_count": 31,
   "id": "b27935db-e5a1-4165-93de-d3dc0fad6bef",
   "metadata": {},
   "outputs": [
    {
     "data": {
      "text/plain": [
       "array([[ 1,  2,  1,  4,  5,  6,  7],\n",
       "       [ 8,  9,  2, 11, 12, 20, 14]])"
      ]
     },
     "execution_count": 31,
     "metadata": {},
     "output_type": "execute_result"
    }
   ],
   "source": [
    "# we can even specify the series, to be a different item for each row\n",
    "a[:,2] = [1,2]\n",
    "a"
   ]
  },
  {
   "cell_type": "code",
   "execution_count": 33,
   "id": "9d111bb5-750d-4edd-a118-ef535c225a95",
   "metadata": {},
   "outputs": [],
   "source": [
    "# 3-D example\n"
   ]
  },
  {
   "cell_type": "code",
   "execution_count": 34,
   "id": "08766a5e-6ed5-4a47-afda-67977480ba6e",
   "metadata": {},
   "outputs": [
    {
     "data": {
      "text/plain": [
       "array([[[1, 2],\n",
       "        [3, 4]],\n",
       "\n",
       "       [[5, 6],\n",
       "        [7, 8]]])"
      ]
     },
     "execution_count": 34,
     "metadata": {},
     "output_type": "execute_result"
    }
   ],
   "source": [
    "b = np.array([[[1,2],[3,4]],[[5,6],[7,8]]])\n",
    "b"
   ]
  },
  {
   "cell_type": "code",
   "execution_count": 35,
   "id": "5dc2e99a-1aab-4293-8360-045faad02c3e",
   "metadata": {},
   "outputs": [
    {
     "data": {
      "text/plain": [
       "4"
      ]
     },
     "execution_count": 35,
     "metadata": {},
     "output_type": "execute_result"
    }
   ],
   "source": [
    "# get specific element (work outside in)\n",
    "b[0,1,1]"
   ]
  },
  {
   "cell_type": "code",
   "execution_count": 36,
   "id": "ad8ead5c-b510-442f-89f5-166f1c81c977",
   "metadata": {},
   "outputs": [
    {
     "data": {
      "text/plain": [
       "array([[3, 4],\n",
       "       [7, 8]])"
      ]
     },
     "execution_count": 36,
     "metadata": {},
     "output_type": "execute_result"
    }
   ],
   "source": [
    "b[:,1,:] # for each series, and every column, get the item on index 1"
   ]
  },
  {
   "cell_type": "code",
   "execution_count": 42,
   "id": "c98912a2-8d6a-4d31-95ae-23f452186290",
   "metadata": {},
   "outputs": [
    {
     "data": {
      "text/plain": [
       "array([[[1, 2],\n",
       "        [9, 9]],\n",
       "\n",
       "       [[5, 6],\n",
       "        [8, 8]]])"
      ]
     },
     "execution_count": 42,
     "metadata": {},
     "output_type": "execute_result"
    }
   ],
   "source": [
    "# we can also asign different items to the ones we've accessed\n",
    "b[:,1,:] = [[9,9],[8,8]] # we must have the exact same amount of item, otherwise we'll get error\n",
    "b"
   ]
  },
  {
   "cell_type": "markdown",
   "id": "612c1d62-843d-44dd-be31-2977c4f15d13",
   "metadata": {},
   "source": [
    "# Initializing Different Types of Arrays"
   ]
  },
  {
   "cell_type": "code",
   "execution_count": 45,
   "id": "4888cb1d-dfd9-40c8-a148-a72abb27802b",
   "metadata": {},
   "outputs": [
    {
     "data": {
      "text/plain": [
       "array([0., 0., 0., 0., 0.])"
      ]
     },
     "execution_count": 45,
     "metadata": {},
     "output_type": "execute_result"
    }
   ],
   "source": [
    "# All 0's matrix\n",
    "np.zeros(5) # we specify a shape and we get a vector of 5"
   ]
  },
  {
   "cell_type": "code",
   "execution_count": 46,
   "id": "9e469676-54b7-434c-be1d-1756900c37ad",
   "metadata": {},
   "outputs": [
    {
     "data": {
      "text/plain": [
       "array([[0., 0., 0.],\n",
       "       [0., 0., 0.]])"
      ]
     },
     "execution_count": 46,
     "metadata": {},
     "output_type": "execute_result"
    }
   ],
   "source": [
    "np.zeros((2,3)) # 2-D"
   ]
  },
  {
   "cell_type": "code",
   "execution_count": 47,
   "id": "f5848fc7-cc0e-49b7-bc8f-66e785ab74c7",
   "metadata": {},
   "outputs": [
    {
     "data": {
      "text/plain": [
       "array([[[0., 0., 0.],\n",
       "        [0., 0., 0.],\n",
       "        [0., 0., 0.]],\n",
       "\n",
       "       [[0., 0., 0.],\n",
       "        [0., 0., 0.],\n",
       "        [0., 0., 0.]]])"
      ]
     },
     "execution_count": 47,
     "metadata": {},
     "output_type": "execute_result"
    }
   ],
   "source": [
    "np.zeros((2,3,3)) # 3-D and so on"
   ]
  },
  {
   "cell_type": "code",
   "execution_count": 51,
   "id": "2c902cb5-9f3b-40f3-8167-fabfca6ba011",
   "metadata": {},
   "outputs": [
    {
     "data": {
      "text/plain": [
       "array([[[1, 1],\n",
       "        [1, 1]],\n",
       "\n",
       "       [[1, 1],\n",
       "        [1, 1]],\n",
       "\n",
       "       [[1, 1],\n",
       "        [1, 1]],\n",
       "\n",
       "       [[1, 1],\n",
       "        [1, 1]]])"
      ]
     },
     "execution_count": 51,
     "metadata": {},
     "output_type": "execute_result"
    }
   ],
   "source": [
    "# All 1's matrix\n",
    "np.ones((4,2,2), dtype='int32') #and we can even sspecify the data type, basically removed the \".\""
   ]
  },
  {
   "cell_type": "code",
   "execution_count": 52,
   "id": "ce230b4c-1269-4928-a8bb-3867cf175d1d",
   "metadata": {},
   "outputs": [
    {
     "data": {
      "text/plain": [
       "array([[99, 99],\n",
       "       [99, 99]])"
      ]
     },
     "execution_count": 52,
     "metadata": {},
     "output_type": "execute_result"
    }
   ],
   "source": [
    "# Any other number\n",
    "np.full((2,2), 99) # we can specify the format of the array, and the values for each item"
   ]
  },
  {
   "cell_type": "code",
   "execution_count": 53,
   "id": "b6ed867a-1c43-40c9-a647-253923e52897",
   "metadata": {},
   "outputs": [
    {
     "data": {
      "text/plain": [
       "array([[4, 4, 4, 4, 4, 4, 4],\n",
       "       [4, 4, 4, 4, 4, 4, 4]])"
      ]
     },
     "execution_count": 53,
     "metadata": {},
     "output_type": "execute_result"
    }
   ],
   "source": [
    "# Any other number (full_like) - this passess in a different array that we have used before\n",
    "np.full_like(a, 4) #or np.full(a.shape, 4) - practically the same"
   ]
  },
  {
   "cell_type": "code",
   "execution_count": 54,
   "id": "dd053d02-cf91-4be4-9716-e771be5655cc",
   "metadata": {},
   "outputs": [],
   "source": [
    "# We know that the array \"a\" was 2:7 (rows:cols), therefore we \"copy-paste\" that array using the full_like function, and then we\n",
    "# assign a value for each value of the array \"4\""
   ]
  },
  {
   "cell_type": "code",
   "execution_count": 58,
   "id": "b67f0c9b-b515-48a6-8390-5bcdc204b098",
   "metadata": {},
   "outputs": [
    {
     "data": {
      "text/plain": [
       "array([[[0.96030073, 0.18033677, 0.7148637 ],\n",
       "        [0.8152001 , 0.46483121, 0.73466234]],\n",
       "\n",
       "       [[0.3006656 , 0.90848646, 0.88436249],\n",
       "        [0.56962915, 0.00751946, 0.54724765]],\n",
       "\n",
       "       [[0.16333112, 0.14605053, 0.71711551],\n",
       "        [0.04138543, 0.85127146, 0.02380454]],\n",
       "\n",
       "       [[0.80989905, 0.2260274 , 0.20381891],\n",
       "        [0.17907847, 0.02197832, 0.49604789]]])"
      ]
     },
     "execution_count": 58,
     "metadata": {},
     "output_type": "execute_result"
    }
   ],
   "source": [
    "# Random Decimal Numbers\n",
    "np.random.rand(4,2,3) # here we don't pass a tuple, but rather just the shape of the matrix, therefore 4:2 (rows:cols) and even pass more dimensions"
   ]
  },
  {
   "cell_type": "code",
   "execution_count": 59,
   "id": "3fd0a230-e191-4422-95a3-2f5872a140d5",
   "metadata": {},
   "outputs": [
    {
     "data": {
      "text/plain": [
       "array([[0.75541063, 0.78215519, 0.02531148, 0.16727696, 0.50940593,\n",
       "        0.08161884, 0.34022388],\n",
       "       [0.18559332, 0.62987064, 0.19125315, 0.80336476, 0.62051639,\n",
       "        0.07048185, 0.16126327]])"
      ]
     },
     "execution_count": 59,
     "metadata": {},
     "output_type": "execute_result"
    }
   ],
   "source": [
    "# if we want to pass a shape directly, we can use the \"random_sample()\" function\n",
    "np.random.random_sample(a.shape) # our array \"a\" was 2:7, and we pass that shape to our new array, but with random decimals"
   ]
  },
  {
   "cell_type": "code",
   "execution_count": 63,
   "id": "ca0b9de8-633b-47cf-8dd8-789d2fa0a1d8",
   "metadata": {},
   "outputs": [
    {
     "data": {
      "text/plain": [
       "array([[2, 4, 5],\n",
       "       [6, 1, 2],\n",
       "       [1, 4, 3]])"
      ]
     },
     "execution_count": 63,
     "metadata": {},
     "output_type": "execute_result"
    }
   ],
   "source": [
    "# Random Integer Values\n",
    "np.random.randint(7, size=(3,3)) # the \"7\" will assign random values from 0 to 7 to each item, and then we have the size, 3:3 (rows:cols)\n",
    "# we can even specify different parameters, just like with \"Lists\", start:end:step\n",
    "# Remember, the last number is allways exclusive, so we have to increase it by 1"
   ]
  },
  {
   "cell_type": "code",
   "execution_count": 67,
   "id": "f7e73e29-9b61-4c5a-98d0-378c8cddd948",
   "metadata": {},
   "outputs": [
    {
     "data": {
      "text/plain": [
       "array([[1., 0., 0.],\n",
       "       [0., 1., 0.],\n",
       "       [0., 0., 1.]])"
      ]
     },
     "execution_count": 67,
     "metadata": {},
     "output_type": "execute_result"
    }
   ],
   "source": [
    "# Identyt Matrix - a matrix that is a square by nature, and the values we pass are possitioned diagonally\n",
    "np.identity(3)"
   ]
  },
  {
   "cell_type": "code",
   "execution_count": 70,
   "id": "89347ef8-2427-4c51-b38d-8989c2915dee",
   "metadata": {},
   "outputs": [
    {
     "data": {
      "text/plain": [
       "array([[1, 2, 3],\n",
       "       [1, 2, 3],\n",
       "       [1, 2, 3]])"
      ]
     },
     "execution_count": 70,
     "metadata": {},
     "output_type": "execute_result"
    }
   ],
   "source": [
    "arr = np.array([[1,2,3]]) # we can create an array, and tell it to repeat a sequence of numbers for each row by using the repeat() function.\n",
    "r1 = np.repeat(arr,3, axis=0) # here we use the repeat() function and after the \"arr (our array)\", we tell it to repeat the sequency for a total of 3 rows\n",
    "r1"
   ]
  },
  {
   "cell_type": "code",
   "execution_count": 110,
   "id": "945b78e9-fe51-41de-9fff-a12571ec8fe3",
   "metadata": {},
   "outputs": [
    {
     "data": {
      "text/plain": [
       "array([[1, 1, 1, 1, 1],\n",
       "       [1, 1, 1, 1, 1],\n",
       "       [1, 1, 1, 1, 1],\n",
       "       [1, 1, 1, 1, 1],\n",
       "       [1, 1, 1, 1, 1]])"
      ]
     },
     "execution_count": 110,
     "metadata": {},
     "output_type": "execute_result"
    }
   ],
   "source": [
    "arr2 = np.full((5,5), 1)\n",
    "arr2"
   ]
  },
  {
   "cell_type": "code",
   "execution_count": 115,
   "id": "62701cd2-2e1d-4b71-ba63-bd8e161b598f",
   "metadata": {},
   "outputs": [
    {
     "data": {
      "text/plain": [
       "array([[1, 1, 1, 1, 1],\n",
       "       [1, 0, 0, 0, 1],\n",
       "       [1, 0, 9, 0, 1],\n",
       "       [1, 0, 0, 0, 1],\n",
       "       [1, 1, 1, 1, 1]])"
      ]
     },
     "execution_count": 115,
     "metadata": {},
     "output_type": "execute_result"
    }
   ],
   "source": [
    "arr2[1:4,1:4] = 0\n",
    "arr2[2:3,2:3] = 9\n",
    "arr2"
   ]
  },
  {
   "cell_type": "code",
   "execution_count": 125,
   "id": "82f7f334-3e9e-47aa-b460-1dd2e1ebb041",
   "metadata": {},
   "outputs": [
    {
     "data": {
      "text/plain": [
       "array([[1, 1, 1, 1, 1],\n",
       "       [1, 0, 0, 0, 1],\n",
       "       [1, 0, 9, 0, 1],\n",
       "       [1, 0, 0, 0, 1],\n",
       "       [1, 1, 1, 1, 1]])"
      ]
     },
     "execution_count": 125,
     "metadata": {},
     "output_type": "execute_result"
    }
   ],
   "source": [
    "arr3 = np.full((5,5), 1)\n",
    "arr3[1:4,1:4] = 0\n",
    "arr3[2:3,2:3] = 9\n",
    "arr3"
   ]
  },
  {
   "cell_type": "code",
   "execution_count": 130,
   "id": "23341142-e713-415c-8981-f348bdeb5805",
   "metadata": {},
   "outputs": [
    {
     "data": {
      "text/plain": [
       "array([[1, 1, 1, 1, 1],\n",
       "       [1, 1, 1, 1, 1],\n",
       "       [1, 1, 1, 1, 1],\n",
       "       [1, 1, 1, 1, 1],\n",
       "       [1, 1, 1, 1, 1]])"
      ]
     },
     "execution_count": 130,
     "metadata": {},
     "output_type": "execute_result"
    }
   ],
   "source": [
    "# another way of doing it, is by using the ones() function\n",
    "output = np.ones((5,5), dtype='int32')\n",
    "output"
   ]
  },
  {
   "cell_type": "code",
   "execution_count": 131,
   "id": "807d77b3-bc0c-4a25-aaa2-28cc2a4c650b",
   "metadata": {},
   "outputs": [
    {
     "data": {
      "text/plain": [
       "array([[0, 0, 0],\n",
       "       [0, 9, 0],\n",
       "       [0, 0, 0]])"
      ]
     },
     "execution_count": 131,
     "metadata": {},
     "output_type": "execute_result"
    }
   ],
   "source": [
    "# now, we can create another array, for the inner part of the ones aray with 0's\n",
    "z = np.zeros((3,3), dtype='int32')\n",
    "# and finally, for that array, we can asssign \"9\" for the center number\n",
    "z[1,1] = 9\n",
    "z"
   ]
  },
  {
   "cell_type": "code",
   "execution_count": 132,
   "id": "b4194898-918e-4dba-ac0d-2cca9b2aaa18",
   "metadata": {},
   "outputs": [
    {
     "data": {
      "text/plain": [
       "array([[1, 1, 1, 1, 1],\n",
       "       [1, 0, 0, 0, 1],\n",
       "       [1, 0, 9, 0, 1],\n",
       "       [1, 0, 0, 0, 1],\n",
       "       [1, 1, 1, 1, 1]])"
      ]
     },
     "execution_count": 132,
     "metadata": {},
     "output_type": "execute_result"
    }
   ],
   "source": [
    "# Finally, we can assign \"z\" to the inner part of \"ones\"\n",
    "output[1:4,1:4] = z\n",
    "output"
   ]
  },
  {
   "cell_type": "markdown",
   "id": "afe4ca14-4ac7-4cd8-ae90-5134e148c08f",
   "metadata": {
    "jp-MarkdownHeadingCollapsed": true
   },
   "source": [
    "### Important"
   ]
  },
  {
   "cell_type": "code",
   "execution_count": 134,
   "id": "89f40cd5-cd8e-4438-acdb-567cde3809dc",
   "metadata": {},
   "outputs": [],
   "source": [
    "# when we copy arrays, and later on we change one of the values in the copied array, that value will be changed as well in the initial array,\n",
    "# that was used for the copy."
   ]
  },
  {
   "cell_type": "code",
   "execution_count": 152,
   "id": "98450f95-e839-4910-bafa-37432f20eba8",
   "metadata": {},
   "outputs": [
    {
     "name": "stdout",
     "output_type": "stream",
     "text": [
      "[100   2   3]\n",
      "[1 2 3]\n"
     ]
    }
   ],
   "source": [
    "a = np.array([1,2,3])\n",
    "b = a.copy()       # b = a.copy()\n",
    "b[0] = 100\n",
    "print(b)  # b = [100 2 3]\n",
    "print(a)  # a = [1 2 3]"
   ]
  },
  {
   "cell_type": "code",
   "execution_count": 144,
   "id": "8b2f3d8a-82cb-4c07-b245-145cc46d7cc1",
   "metadata": {},
   "outputs": [],
   "source": [
    "# array \"a\" has the same value as b. When we said that b = a, and we set a different value for the item at index 0, we said that the variable \"b\",\n",
    "# points to the same index for the variable \"a\". Therefore one changes the other\n",
    "# in order to prevent that from happening, we need to use the copy() function"
   ]
  },
  {
   "cell_type": "markdown",
   "id": "53f6e4eb-4846-4a50-947b-6d39a4b97e1b",
   "metadata": {},
   "source": [
    "### Mathematics\n",
    "\n"
   ]
  },
  {
   "cell_type": "code",
   "execution_count": 154,
   "id": "7a401d32-9861-4393-a776-887c1595e5f6",
   "metadata": {},
   "outputs": [
    {
     "data": {
      "text/plain": [
       "array([1, 2, 3, 4])"
      ]
     },
     "execution_count": 154,
     "metadata": {},
     "output_type": "execute_result"
    }
   ],
   "source": [
    "a = np.array([1,2,3,4])\n",
    "a"
   ]
  },
  {
   "cell_type": "code",
   "execution_count": 156,
   "id": "7484fafa-58f1-4d59-9950-ba1392ec4a68",
   "metadata": {},
   "outputs": [
    {
     "data": {
      "text/plain": [
       "array([3, 4, 5, 6])"
      ]
     },
     "execution_count": 156,
     "metadata": {},
     "output_type": "execute_result"
    }
   ],
   "source": [
    "a + 2 # we add 2 to each element"
   ]
  },
  {
   "cell_type": "code",
   "execution_count": 157,
   "id": "fa223db9-bff6-4be8-a5ec-ffd780ec4bcc",
   "metadata": {},
   "outputs": [
    {
     "data": {
      "text/plain": [
       "array([-1,  0,  1,  2])"
      ]
     },
     "execution_count": 157,
     "metadata": {},
     "output_type": "execute_result"
    }
   ],
   "source": [
    "a - 2"
   ]
  },
  {
   "cell_type": "code",
   "execution_count": 158,
   "id": "5526a12a-a336-48db-9d17-aaeedfa889f9",
   "metadata": {},
   "outputs": [
    {
     "data": {
      "text/plain": [
       "array([2, 4, 6, 8])"
      ]
     },
     "execution_count": 158,
     "metadata": {},
     "output_type": "execute_result"
    }
   ],
   "source": [
    "a * 2"
   ]
  },
  {
   "cell_type": "code",
   "execution_count": 159,
   "id": "106075f2-3306-451c-8438-80715297d689",
   "metadata": {},
   "outputs": [
    {
     "data": {
      "text/plain": [
       "array([0.5, 1. , 1.5, 2. ])"
      ]
     },
     "execution_count": 159,
     "metadata": {},
     "output_type": "execute_result"
    }
   ],
   "source": [
    "a / 2"
   ]
  },
  {
   "cell_type": "code",
   "execution_count": 160,
   "id": "32449af8-86ae-4b69-9096-408c32817ab8",
   "metadata": {},
   "outputs": [
    {
     "data": {
      "text/plain": [
       "array([2, 2, 4, 4])"
      ]
     },
     "execution_count": 160,
     "metadata": {},
     "output_type": "execute_result"
    }
   ],
   "source": [
    "b = np.array([1,0,1,0])\n",
    "a + b"
   ]
  },
  {
   "cell_type": "code",
   "execution_count": 161,
   "id": "4ff9b170-a2a6-487d-8e2d-207a439f83fc",
   "metadata": {},
   "outputs": [
    {
     "data": {
      "text/plain": [
       "array([ 0.84147098,  0.90929743,  0.14112001, -0.7568025 ])"
      ]
     },
     "execution_count": 161,
     "metadata": {},
     "output_type": "execute_result"
    }
   ],
   "source": [
    "# Take the sin, cos, tag, cotg\n",
    "np.sin(a)"
   ]
  },
  {
   "cell_type": "markdown",
   "id": "29099134-3ec3-4256-94f7-53104c157db9",
   "metadata": {
    "jp-MarkdownHeadingCollapsed": true
   },
   "source": [
    "##### Linear Algebra"
   ]
  },
  {
   "cell_type": "code",
   "execution_count": 164,
   "id": "c651df92-8a1e-4b7d-b130-0f686b561b98",
   "metadata": {},
   "outputs": [
    {
     "name": "stdout",
     "output_type": "stream",
     "text": [
      "[[1. 1. 1.]\n",
      " [1. 1. 1.]]\n",
      "[[2 2]\n",
      " [2 2]\n",
      " [2 2]]\n"
     ]
    },
    {
     "data": {
      "text/plain": [
       "array([[6., 6.],\n",
       "       [6., 6.]])"
      ]
     },
     "execution_count": 164,
     "metadata": {},
     "output_type": "execute_result"
    }
   ],
   "source": [
    "a = np.ones((2,3))\n",
    "print(a)\n",
    "\n",
    "b = np.full((3,2), 2)\n",
    "print(b)\n",
    "\n",
    "# wwe cannot directly multiple matrices if they are of different sizes, and that is why we use the matmul() function\n",
    "\n",
    "np.matmul(a,b)"
   ]
  },
  {
   "cell_type": "code",
   "execution_count": 165,
   "id": "5b511d90-dedf-45c4-a0bd-6eb08d9c7e2e",
   "metadata": {},
   "outputs": [],
   "source": [
    "# In Linear Algebra, the cols of the first matrix should be equal to the rows of the second matrix"
   ]
  },
  {
   "cell_type": "code",
   "execution_count": null,
   "id": "d8ca6c41-67d8-48ec-a446-93d7e5aea5c7",
   "metadata": {},
   "outputs": [],
   "source": []
  },
  {
   "cell_type": "code",
   "execution_count": 167,
   "id": "ae860b59-2e57-4e27-bbbc-911380dc9965",
   "metadata": {},
   "outputs": [
    {
     "data": {
      "text/plain": [
       "1.0"
      ]
     },
     "execution_count": 167,
     "metadata": {},
     "output_type": "execute_result"
    }
   ],
   "source": [
    "# Find the Determinant\n",
    "c = np.identity(3)\n",
    "np.linalg.det(c)"
   ]
  },
  {
   "cell_type": "code",
   "execution_count": 168,
   "id": "0572da6d-2276-444e-802f-f0ec8451a78d",
   "metadata": {},
   "outputs": [],
   "source": [
    "## Reference docs (https://docs.scipy.org/doc/numpy/reference/routines.linalg.html)\n",
    "\n",
    "# Determinant\n",
    "# Trace\n",
    "# Singular Vector Decomposition\n",
    "# eigenvalues\n",
    "# Matrix Norm\n",
    "# Inverse"
   ]
  },
  {
   "cell_type": "markdown",
   "id": "bf2d8708-268c-43a2-8750-03f0bc4ecd58",
   "metadata": {
    "jp-MarkdownHeadingCollapsed": true
   },
   "source": [
    "##### Statistics"
   ]
  },
  {
   "cell_type": "code",
   "execution_count": 169,
   "id": "e180222b-6b3b-4b7e-b7dc-850e403e1b2d",
   "metadata": {},
   "outputs": [
    {
     "data": {
      "text/plain": [
       "array([[1, 2, 3],\n",
       "       [4, 5, 6]])"
      ]
     },
     "execution_count": 169,
     "metadata": {},
     "output_type": "execute_result"
    }
   ],
   "source": [
    "stats = np.array([[1,2,3],[4,5,6]])\n",
    "stats"
   ]
  },
  {
   "cell_type": "code",
   "execution_count": 170,
   "id": "d8511009-b6f5-4c7e-b46b-5b4fee35ade1",
   "metadata": {},
   "outputs": [
    {
     "data": {
      "text/plain": [
       "1"
      ]
     },
     "execution_count": 170,
     "metadata": {},
     "output_type": "execute_result"
    }
   ],
   "source": [
    "np.min(stats) # if we want to do it for every row, we can add \"axis=1\", and that way we get the \"min\" for every row"
   ]
  },
  {
   "cell_type": "code",
   "execution_count": 171,
   "id": "f1493acf-2e5a-4a12-afd9-ef073522a600",
   "metadata": {},
   "outputs": [
    {
     "data": {
      "text/plain": [
       "6"
      ]
     },
     "execution_count": 171,
     "metadata": {},
     "output_type": "execute_result"
    }
   ],
   "source": [
    "np.max(stats)"
   ]
  },
  {
   "cell_type": "code",
   "execution_count": 172,
   "id": "ad423db8-74ed-4930-9f09-bd311dcd0a6e",
   "metadata": {},
   "outputs": [
    {
     "data": {
      "text/plain": [
       "21"
      ]
     },
     "execution_count": 172,
     "metadata": {},
     "output_type": "execute_result"
    }
   ],
   "source": [
    "np.sum(stats) # sum all the elements in the matrix"
   ]
  },
  {
   "cell_type": "code",
   "execution_count": 173,
   "id": "3019e351-b983-45c9-81f1-0c16730a38c0",
   "metadata": {},
   "outputs": [
    {
     "data": {
      "text/plain": [
       "array([5, 7, 9])"
      ]
     },
     "execution_count": 173,
     "metadata": {},
     "output_type": "execute_result"
    }
   ],
   "source": [
    "np.sum(stats, axis=0) # this will sum all the elements for every column, going downwards"
   ]
  },
  {
   "cell_type": "markdown",
   "id": "f2e5af53-de5a-4e44-9143-100f7f752477",
   "metadata": {
    "jp-MarkdownHeadingCollapsed": true
   },
   "source": [
    "##### ReOrganazing Arrays"
   ]
  },
  {
   "cell_type": "code",
   "execution_count": 177,
   "id": "dd05d9b3-ab36-44c9-b997-bdb50f4851dc",
   "metadata": {},
   "outputs": [
    {
     "name": "stdout",
     "output_type": "stream",
     "text": [
      "[[1 2 3 4]\n",
      " [5 6 7 8]]\n",
      "[[1 2]\n",
      " [3 4]\n",
      " [5 6]\n",
      " [7 8]]\n"
     ]
    }
   ],
   "source": [
    "before = np.array([[1,2,3,4],[5,6,7,8]])\n",
    "print(before)\n",
    "\n",
    "after = before.reshape((4,2)) # or we can pass it as 2:2:2, as long as it has the same amout of values\n",
    "print(after)"
   ]
  },
  {
   "cell_type": "code",
   "execution_count": 180,
   "id": "c5252b05-f362-412b-bb56-8245c33d73b8",
   "metadata": {},
   "outputs": [
    {
     "data": {
      "text/plain": [
       "array([[1, 2, 3, 4],\n",
       "       [5, 6, 7, 8],\n",
       "       [5, 6, 7, 8],\n",
       "       [5, 6, 7, 8]])"
      ]
     },
     "execution_count": 180,
     "metadata": {},
     "output_type": "execute_result"
    }
   ],
   "source": [
    "# Vertically Stacking Vectors/Matrices\n",
    "v1 = np.array([1,2,3,4])\n",
    "v2 = np.array([5,6,7,8])\n",
    "\n",
    "np.vstack([v1,v2]) # or we can keep passing \"v2\" if we want more copies of the array in the new matrix"
   ]
  },
  {
   "cell_type": "code",
   "execution_count": 182,
   "id": "25dac0f8-76af-4a5b-8cfe-6b520d134005",
   "metadata": {},
   "outputs": [
    {
     "name": "stdout",
     "output_type": "stream",
     "text": [
      "[[1. 1. 1. 1.]\n",
      " [1. 1. 1. 1.]]\n",
      "[[0. 0.]\n",
      " [0. 0.]]\n",
      "\n"
     ]
    },
    {
     "data": {
      "text/plain": [
       "array([[1., 1., 1., 1., 0., 0.],\n",
       "       [1., 1., 1., 1., 0., 0.]])"
      ]
     },
     "execution_count": 182,
     "metadata": {},
     "output_type": "execute_result"
    }
   ],
   "source": [
    "# Horizontal Stack\n",
    "h1 = np.ones((2,4))\n",
    "h2 = np.zeros((2,2))\n",
    "\n",
    "print(h1)\n",
    "print(h2)\n",
    "print()\n",
    "np.hstack((h1,h2))"
   ]
  },
  {
   "cell_type": "markdown",
   "id": "a06c1453-a4d2-41d4-af94-9f273956a468",
   "metadata": {},
   "source": [
    "#### Miscellaneous"
   ]
  },
  {
   "cell_type": "markdown",
   "id": "af29dcae-07ce-44a1-8b8f-8bc50c1c3227",
   "metadata": {
    "jp-MarkdownHeadingCollapsed": true
   },
   "source": [
    "##### Load Data From File\n"
   ]
  },
  {
   "cell_type": "code",
   "execution_count": 193,
   "id": "32b03169-ed7e-4380-9a6c-f52b79b923e7",
   "metadata": {},
   "outputs": [
    {
     "data": {
      "text/plain": [
       "array([[   1,    1,    2,    3,    4,   56,    1,  123,    4,   23,   56,\n",
       "           7,    1,    3,    4,    5,    1],\n",
       "       [1234,  236,    6, 1234,  213,   43,   52,  354,    1,   23,   66,\n",
       "           6,   12,   14,   61,    1,    3],\n",
       "       [ 123,  315,    6,    7,   43,  232, 4213,    6,    4,    3,   31,\n",
       "          23,    3,    4,   61,    1,    3],\n",
       "       [   7,    8,    9,    9,  456,    9,  564,  624,   58,    9,    2,\n",
       "          34,   77,   42,    0,   61,    1]])"
      ]
     },
     "execution_count": 193,
     "metadata": {},
     "output_type": "execute_result"
    }
   ],
   "source": [
    "filedata = np.genfromtxt('data.txt', delimiter=',') # we load data from file with the .genfromtxt()function \n",
    "filedata.astype('int32') # and further we can cast the float type ass integer with the .astype() function"
   ]
  },
  {
   "cell_type": "code",
   "execution_count": 194,
   "id": "19baf15b-814e-4984-9c64-1d3835711250",
   "metadata": {},
   "outputs": [],
   "source": [
    "# the delimeter='' determines how the data is split"
   ]
  },
  {
   "cell_type": "markdown",
   "id": "048e21bb-68e5-4de8-82de-2b483327de0c",
   "metadata": {},
   "source": [
    "##### Boolean Masking and Advanced Indexing"
   ]
  },
  {
   "cell_type": "code",
   "execution_count": 195,
   "id": "43250b1e-9f94-4ab9-a624-39faf449d574",
   "metadata": {},
   "outputs": [
    {
     "data": {
      "text/plain": [
       "array([[False, False, False, False, False,  True, False,  True, False,\n",
       "        False,  True, False, False, False, False, False, False],\n",
       "       [ True,  True, False,  True,  True, False,  True,  True, False,\n",
       "        False,  True, False, False, False,  True, False, False],\n",
       "       [ True,  True, False, False, False,  True,  True, False, False,\n",
       "        False, False, False, False, False,  True, False, False],\n",
       "       [False, False, False, False,  True, False,  True,  True,  True,\n",
       "        False, False, False,  True, False, False,  True, False]])"
      ]
     },
     "execution_count": 195,
     "metadata": {},
     "output_type": "execute_result"
    }
   ],
   "source": [
    "filedata > 50 # we can check which items are greater than 50, and then return a True value if they are"
   ]
  },
  {
   "cell_type": "code",
   "execution_count": 196,
   "id": "0c66ab02-4bb8-4667-aeb7-9236fb91cf8c",
   "metadata": {},
   "outputs": [
    {
     "data": {
      "text/plain": [
       "array([  56.,  123.,   56., 1234.,  236., 1234.,  213.,   52.,  354.,\n",
       "         66.,   61.,  123.,  315.,  232., 4213.,   61.,  456.,  564.,\n",
       "        624.,   58.,   77.,   61.])"
      ]
     },
     "execution_count": 196,
     "metadata": {},
     "output_type": "execute_result"
    }
   ],
   "source": [
    "filedata[filedata > 50] # that way we can index where it is greater than 50. We grab only the values"
   ]
  },
  {
   "cell_type": "code",
   "execution_count": 198,
   "id": "13bb282d-4560-409d-b258-9f6078600822",
   "metadata": {},
   "outputs": [
    {
     "data": {
      "text/plain": [
       "array([2, 3, 9])"
      ]
     },
     "execution_count": 198,
     "metadata": {},
     "output_type": "execute_result"
    }
   ],
   "source": [
    "# You can also index with a list in NumPy\n",
    "a = np.array([1,2,3,4,5,6,7,8,9])\n",
    "a[[1,2,8]]"
   ]
  },
  {
   "cell_type": "code",
   "execution_count": 200,
   "id": "501664d3-f883-4aba-8a1e-2286d4d0c479",
   "metadata": {},
   "outputs": [
    {
     "data": {
      "text/plain": [
       "array([ True,  True, False,  True,  True,  True,  True,  True,  True,\n",
       "       False,  True, False,  True, False,  True,  True, False])"
      ]
     },
     "execution_count": 200,
     "metadata": {},
     "output_type": "execute_result"
    }
   ],
   "source": [
    "# We can also see which of the values is greater than 50 only in the first row, by using the any() function\n",
    "np.any(filedata > 50, axis=0)"
   ]
  },
  {
   "cell_type": "code",
   "execution_count": 201,
   "id": "e591b9cb-358a-476e-8b02-30cb672aa3b2",
   "metadata": {},
   "outputs": [
    {
     "data": {
      "text/plain": [
       "array([[False, False, False, False, False,  True, False, False, False,\n",
       "        False,  True, False, False, False, False, False, False],\n",
       "       [False, False, False, False, False, False,  True, False, False,\n",
       "        False,  True, False, False, False,  True, False, False],\n",
       "       [False, False, False, False, False, False, False, False, False,\n",
       "        False, False, False, False, False,  True, False, False],\n",
       "       [False, False, False, False, False, False, False, False,  True,\n",
       "        False, False, False,  True, False, False,  True, False]])"
      ]
     },
     "execution_count": 201,
     "metadata": {},
     "output_type": "execute_result"
    }
   ],
   "source": [
    "# or\n",
    "((filedata > 50) & (filedata < 100))"
   ]
  },
  {
   "cell_type": "code",
   "execution_count": null,
   "id": "995fa491-890b-4d5a-8864-867afaaaf875",
   "metadata": {},
   "outputs": [],
   "source": []
  },
  {
   "cell_type": "code",
   "execution_count": 220,
   "id": "d8072106-66bf-4779-9a52-a64ebac9f7c2",
   "metadata": {},
   "outputs": [
    {
     "data": {
      "text/plain": [
       "array([[ 1,  2,  3,  4,  5],\n",
       "       [ 6,  7,  8,  9, 10],\n",
       "       [11, 12, 13, 14, 15],\n",
       "       [16, 17, 18, 19, 20],\n",
       "       [21, 22, 23, 24, 25],\n",
       "       [26, 27, 28, 29, 30]])"
      ]
     },
     "execution_count": 220,
     "metadata": {},
     "output_type": "execute_result"
    }
   ],
   "source": [
    "h1 = np.array((1,2,3,4,5))\n",
    "h2 = np.array((6,7,8,9,10))\n",
    "h3 = np.array((11,12,13,14,15))\n",
    "h4 = np.array((16,17,18,19,20))\n",
    "h5 = np.array((21,22,23,24,25))\n",
    "h6 = np.array((26,27,28,29,30))\n",
    "\n",
    "stack = np.vstack((h1,h2,h3,h4,h5,h6))\n",
    "stack"
   ]
  },
  {
   "cell_type": "code",
   "execution_count": 251,
   "id": "daefaa4b-ad06-4c0e-bc7a-0c37738b1c4f",
   "metadata": {},
   "outputs": [
    {
     "data": {
      "text/plain": [
       "array([[ 4,  5],\n",
       "       [24, 25],\n",
       "       [29, 30]])"
      ]
     },
     "execution_count": 251,
     "metadata": {},
     "output_type": "execute_result"
    }
   ],
   "source": [
    "stack[[0,4,5], 3:]  # left side is the index of the rows, and right side is from 3 until the last index for the columns"
   ]
  },
  {
   "cell_type": "code",
   "execution_count": null,
   "id": "10c8838d-06ef-4b17-ab75-0311ad8d2787",
   "metadata": {},
   "outputs": [],
   "source": [
    "cd "
   ]
  }
 ],
 "metadata": {
  "kernelspec": {
   "display_name": "Python 3 (ipykernel)",
   "language": "python",
   "name": "python3"
  },
  "language_info": {
   "codemirror_mode": {
    "name": "ipython",
    "version": 3
   },
   "file_extension": ".py",
   "mimetype": "text/x-python",
   "name": "python",
   "nbconvert_exporter": "python",
   "pygments_lexer": "ipython3",
   "version": "3.12.4"
  }
 },
 "nbformat": 4,
 "nbformat_minor": 5
}
